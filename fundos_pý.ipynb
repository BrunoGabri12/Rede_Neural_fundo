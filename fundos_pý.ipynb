{
  "nbformat": 4,
  "nbformat_minor": 0,
  "metadata": {
    "colab": {
      "name": "fundos.pý",
      "provenance": [],
      "authorship_tag": "ABX9TyM9p7nDHENPVclI0xg9rY3r",
      "include_colab_link": true
    },
    "kernelspec": {
      "name": "python3",
      "display_name": "Python 3"
    },
    "language_info": {
      "name": "python"
    }
  },
  "cells": [
    {
      "cell_type": "markdown",
      "metadata": {
        "id": "view-in-github",
        "colab_type": "text"
      },
      "source": [
        "<a href=\"https://colab.research.google.com/github/BrunoGabri12/Rede_Neural_fundo/blob/master/fundos_p%C3%BD.ipynb\" target=\"_parent\"><img src=\"https://colab.research.google.com/assets/colab-badge.svg\" alt=\"Open In Colab\"/></a>"
      ]
    },
    {
      "cell_type": "markdown",
      "metadata": {
        "id": "6zh9se-Tz5vg"
      },
      "source": [
        "## Importação dos dados do site fundsexplorer"
      ]
    },
    {
      "cell_type": "code",
      "metadata": {
        "id": "1g_UZBSD0TpW"
      },
      "source": [
        "import requests\n",
        "import pandas as pd\n",
        "import numpy as np\n",
        "import random "
      ],
      "execution_count": null,
      "outputs": []
    },
    {
      "cell_type": "code",
      "metadata": {
        "id": "zd5ytEFWEoB8"
      },
      "source": [
        "url = 'https://www.fundsexplorer.com.br/ranking'"
      ],
      "execution_count": null,
      "outputs": []
    },
    {
      "cell_type": "code",
      "metadata": {
        "id": "hh2kvxobEqSe"
      },
      "source": [
        "response = requests.get(url)\n",
        "if response.status_code == 200:\n",
        "    df = pd.read_html(response.content, encoding='utf-8')[0]\n",
        "\n",
        "df"
      ],
      "execution_count": null,
      "outputs": []
    },
    {
      "cell_type": "markdown",
      "metadata": {
        "id": "OQHBgCEP0Bz_"
      },
      "source": [
        "## Sorteio Randomico de 100 fundos que servirão de base de dados para o treinamento\n",
        "\n",
        "> Bloco com recuo\n",
        "\n",
        "\n",
        "\n",
        "\n",
        "tal valor representa cerca de 25% do conjunto dos dados"
      ]
    },
    {
      "cell_type": "code",
      "metadata": {
        "id": "WWG0gew8z5CR",
        "colab": {
          "base_uri": "https://localhost:8080/",
          "height": 190
        },
        "outputId": "980354d5-48ae-492d-d735-1b4636200904"
      },
      "source": [
        "cod_fundos = df['Códigodo fundo'] #código dos fundos obtidos\n",
        "\n"
      ],
      "execution_count": null,
      "outputs": [
        {
          "output_type": "error",
          "ename": "NameError",
          "evalue": "ignored",
          "traceback": [
            "\u001b[0;31m---------------------------------------------------------------------------\u001b[0m",
            "\u001b[0;31mNameError\u001b[0m                                 Traceback (most recent call last)",
            "\u001b[0;32m<ipython-input-1-ed4bd79884f7>\u001b[0m in \u001b[0;36m<module>\u001b[0;34m()\u001b[0m\n\u001b[0;32m----> 1\u001b[0;31m \u001b[0mcod_fundos\u001b[0m \u001b[0;34m=\u001b[0m \u001b[0mdf\u001b[0m\u001b[0;34m[\u001b[0m\u001b[0;34m'Códigodo fundo'\u001b[0m\u001b[0;34m]\u001b[0m \u001b[0;31m#código dos fundos obtidos\u001b[0m\u001b[0;34m\u001b[0m\u001b[0;34m\u001b[0m\u001b[0m\n\u001b[0m\u001b[1;32m      2\u001b[0m \u001b[0;34m\u001b[0m\u001b[0m\n",
            "\u001b[0;31mNameError\u001b[0m: name 'df' is not defined"
          ]
        }
      ]
    },
    {
      "cell_type": "code",
      "metadata": {
        "colab": {
          "base_uri": "https://localhost:8080/"
        },
        "id": "HpIGyxHC0wiw",
        "outputId": "a106c322-19ca-45d2-dc99-cb090513792e"
      },
      "source": [
        "\n",
        "new_funds = []\n",
        "\n",
        "\n",
        "randomico = random.sample(range(2,len(cod_fundos)),100)\n",
        "\n",
        "\n",
        "for i in range (0,100):\n",
        "  new_funds.append(cod_fundos[randomico[i]])\n",
        "\n",
        "print(new_funds)\n",
        "\n",
        "\n",
        "\n",
        "\n"
      ],
      "execution_count": null,
      "outputs": [
        {
          "output_type": "stream",
          "name": "stdout",
          "text": [
            "['CXTL11', 'ARRI11', 'RECR11', 'RBRF11', 'KNCR11', 'FVPQ11', 'RDPD11', 'RELG11', 'DOMC11', 'HOSI11', 'ALZR11', 'FPAB11', 'IBCR11', 'MGHT11', 'NVHO11', 'BTAL11', 'RBVA11', 'VILG11', 'AIEC11', 'DRIT11B', 'XPML11', 'CXCO11', 'CJCT11', 'HGFF11', 'ERCR11', 'KINP11', 'BLMR11', 'OULG11', 'BTWR11', 'CRFF11', 'BTCR11', 'BARI11', 'CXCE11B', 'JSRE11', 'MFAI11', 'HGCR11', 'ATSA11', 'VGHF11', 'XPIN11', 'SEQR11', 'NAVT11', 'FIGS11', 'QAGR11', 'RBRP11', 'HSML11', 'CVBI11', 'RRCI11', 'RECT11', 'ORPD11', 'HLOG11', 'GGRC11', 'FLCR11', 'HTMX11', 'RZAK11', 'OUJP11', 'RZTR11', 'FMOF11', 'LFTT11', 'PLRI11', 'FEXC11', 'LUGG11', 'RVBI11', 'MORE11', 'TRNT11', 'LASC11', 'HPDP11', 'VSLH11', 'PATC11', 'RECX11', 'EVBI11', 'NVIF11B', 'BBPO11', 'XPPR11', 'TGAR11', 'CORM11', 'FIIP11B', 'VOTS11', 'BBFI11B', 'VVPR11', 'HGRU11', 'MCCI11', 'VIUR11', 'BLCP11', 'YUFI11B', 'KNIP11', 'TORD11', 'HGRE11', 'RBCO11', 'HRDF11', 'BICR11', 'SPVJ11', 'GCFF11', 'PORD11', 'RBRR11', 'JRDM11', 'ABCP11', 'SDIL11', 'PQAG11', 'HGIC11', 'CPFF11']\n"
          ]
        }
      ]
    },
    {
      "cell_type": "markdown",
      "metadata": {
        "id": "HfdRRuPHEQvF"
      },
      "source": [
        "Os dados obtidos então foram os seguintes Tickets \n",
        "\n",
        "['ONEF11', 'HRDF11', 'RVBI11', 'MALL11', 'CXCO11', 'CVBI11', 'XPCM11', 'EDGA11', 'RBCO11', 'KINP11', 'RBRF11', 'PATL11', 'PABY11', 'RBRD11', 'YUFI11B', 'MXRF11', 'HBRH11', 'JRDM11', 'RBED11', 'ALMI11', 'BREV11', 'FIIB11', 'RBLG11', 'VGHF11', 'HGPO11', 'HCTR11', 'BNFS11', 'IRIM11', 'WTSP11B', 'VIUR11', 'IFIE11', 'NVHO11', 'PLCR11', 'KNIP11', 'GCRI11', 'RECR11', 'BTAL11', 'GALG11', 'NVIF11B', 'KNHY11', 'BBIM11', 'FIGS11', 'VVPR11', 'FEXC11', 'OUFF11', 'HABT11', 'MCHY11', 'GTWR11', 'EQIN11', 'ALZR11', 'BPFF11', 'SPTW11', 'RBDS11', 'LFTT11', 'ARCT11']\n",
        "\n"
      ]
    },
    {
      "cell_type": "markdown",
      "metadata": {
        "id": "mJe592GwE-jj"
      },
      "source": [
        "##Extração dos Dados da tabela"
      ]
    },
    {
      "cell_type": "code",
      "metadata": {
        "id": "HayKrNsdFOAS",
        "colab": {
          "base_uri": "https://localhost:8080/",
          "height": 424
        },
        "outputId": "1d937aee-f2f6-4bf6-dc7e-64e052ce7056"
      },
      "source": [
        "tickets = new_funds\n",
        "\n",
        "\n",
        "\n",
        "prmt = ['Códigodo fundo','Preço Atual','Variação Preço',  #filtro dos atributos importantes \n",
        "       'PatrimônioLíq.','P/VPA', 'VariaçãoPatrimonial',\t'Dividendo']\n",
        "\n",
        "\n",
        "df2 = df[df['Códigodo fundo'].isin(tickets)] #filtrando pelos tickets\n",
        "df_filter =pd.DataFrame(df2[prmt])\n",
        "\n",
        "df_filter\n",
        "\n"
      ],
      "execution_count": null,
      "outputs": [
        {
          "output_type": "execute_result",
          "data": {
            "text/html": [
              "<div>\n",
              "<style scoped>\n",
              "    .dataframe tbody tr th:only-of-type {\n",
              "        vertical-align: middle;\n",
              "    }\n",
              "\n",
              "    .dataframe tbody tr th {\n",
              "        vertical-align: top;\n",
              "    }\n",
              "\n",
              "    .dataframe thead th {\n",
              "        text-align: right;\n",
              "    }\n",
              "</style>\n",
              "<table border=\"1\" class=\"dataframe\">\n",
              "  <thead>\n",
              "    <tr style=\"text-align: right;\">\n",
              "      <th></th>\n",
              "      <th>Códigodo fundo</th>\n",
              "      <th>Preço Atual</th>\n",
              "      <th>Variação Preço</th>\n",
              "      <th>PatrimônioLíq.</th>\n",
              "      <th>P/VPA</th>\n",
              "      <th>VariaçãoPatrimonial</th>\n",
              "      <th>Dividendo</th>\n",
              "    </tr>\n",
              "  </thead>\n",
              "  <tbody>\n",
              "    <tr>\n",
              "      <th>4</th>\n",
              "      <td>DOMC11</td>\n",
              "      <td>R$ 439,00</td>\n",
              "      <td>4,35%</td>\n",
              "      <td>R$ 271.028.049,90</td>\n",
              "      <td>396.0</td>\n",
              "      <td>NaN</td>\n",
              "      <td>R$ 0,00</td>\n",
              "    </tr>\n",
              "    <tr>\n",
              "      <th>6</th>\n",
              "      <td>ORPD11</td>\n",
              "      <td>R$ 132,00</td>\n",
              "      <td>NaN</td>\n",
              "      <td>R$ 44.097.172,50</td>\n",
              "      <td>87.0</td>\n",
              "      <td>NaN</td>\n",
              "      <td>R$ 1,38</td>\n",
              "    </tr>\n",
              "    <tr>\n",
              "      <th>7</th>\n",
              "      <td>ATSA11</td>\n",
              "      <td>R$ 98,97</td>\n",
              "      <td>0,74%</td>\n",
              "      <td>R$ 172.430.132,56</td>\n",
              "      <td>101.0</td>\n",
              "      <td>NaN</td>\n",
              "      <td>R$ 0,25</td>\n",
              "    </tr>\n",
              "    <tr>\n",
              "      <th>9</th>\n",
              "      <td>HTMX11</td>\n",
              "      <td>R$ 84,35</td>\n",
              "      <td>-28,14%</td>\n",
              "      <td>R$ 163.667.079,62</td>\n",
              "      <td>65.0</td>\n",
              "      <td>NaN</td>\n",
              "      <td>R$ 0,00</td>\n",
              "    </tr>\n",
              "    <tr>\n",
              "      <th>14</th>\n",
              "      <td>FMOF11</td>\n",
              "      <td>R$ 67,21</td>\n",
              "      <td>NaN</td>\n",
              "      <td>R$ 66.978.758,80</td>\n",
              "      <td>51.0</td>\n",
              "      <td>NaN</td>\n",
              "      <td>R$ 0,64</td>\n",
              "    </tr>\n",
              "    <tr>\n",
              "      <th>...</th>\n",
              "      <td>...</td>\n",
              "      <td>...</td>\n",
              "      <td>...</td>\n",
              "      <td>...</td>\n",
              "      <td>...</td>\n",
              "      <td>...</td>\n",
              "      <td>...</td>\n",
              "    </tr>\n",
              "    <tr>\n",
              "      <th>238</th>\n",
              "      <td>XPPR11</td>\n",
              "      <td>R$ 60,78</td>\n",
              "      <td>-7,87%</td>\n",
              "      <td>R$ 610.739.386,36</td>\n",
              "      <td>73.0</td>\n",
              "      <td>-0,61%</td>\n",
              "      <td>R$ 0,55</td>\n",
              "    </tr>\n",
              "    <tr>\n",
              "      <th>245</th>\n",
              "      <td>RBVA11</td>\n",
              "      <td>R$ 95,70</td>\n",
              "      <td>-3,02%</td>\n",
              "      <td>R$ 1.315.716.222,34</td>\n",
              "      <td>84.0</td>\n",
              "      <td>0,17%</td>\n",
              "      <td>R$ 0,91</td>\n",
              "    </tr>\n",
              "    <tr>\n",
              "      <th>251</th>\n",
              "      <td>PLRI11</td>\n",
              "      <td>R$ 39,10</td>\n",
              "      <td>-14,05%</td>\n",
              "      <td>R$ 42.838.603,81</td>\n",
              "      <td>87.0</td>\n",
              "      <td>-8,26%</td>\n",
              "      <td>R$ 0,20</td>\n",
              "    </tr>\n",
              "    <tr>\n",
              "      <th>252</th>\n",
              "      <td>BBFI11B</td>\n",
              "      <td>R$ 1.964,99</td>\n",
              "      <td>-12,72%</td>\n",
              "      <td>R$ 329.827.997,99</td>\n",
              "      <td>77.0</td>\n",
              "      <td>0,21%</td>\n",
              "      <td>R$ 25,85</td>\n",
              "    </tr>\n",
              "    <tr>\n",
              "      <th>253</th>\n",
              "      <td>HSML11</td>\n",
              "      <td>R$ 69,84</td>\n",
              "      <td>-9,36%</td>\n",
              "      <td>R$ 1.502.258.980,61</td>\n",
              "      <td>73.0</td>\n",
              "      <td>0,10%</td>\n",
              "      <td>R$ 0,52</td>\n",
              "    </tr>\n",
              "  </tbody>\n",
              "</table>\n",
              "<p>100 rows × 7 columns</p>\n",
              "</div>"
            ],
            "text/plain": [
              "    Códigodo fundo  Preço Atual  ... VariaçãoPatrimonial Dividendo\n",
              "4           DOMC11    R$ 439,00  ...                 NaN   R$ 0,00\n",
              "6           ORPD11    R$ 132,00  ...                 NaN   R$ 1,38\n",
              "7           ATSA11     R$ 98,97  ...                 NaN   R$ 0,25\n",
              "9           HTMX11     R$ 84,35  ...                 NaN   R$ 0,00\n",
              "14          FMOF11     R$ 67,21  ...                 NaN   R$ 0,64\n",
              "..             ...          ...  ...                 ...       ...\n",
              "238         XPPR11     R$ 60,78  ...              -0,61%   R$ 0,55\n",
              "245         RBVA11     R$ 95,70  ...               0,17%   R$ 0,91\n",
              "251         PLRI11     R$ 39,10  ...              -8,26%   R$ 0,20\n",
              "252        BBFI11B  R$ 1.964,99  ...               0,21%  R$ 25,85\n",
              "253         HSML11     R$ 69,84  ...               0,10%   R$ 0,52\n",
              "\n",
              "[100 rows x 7 columns]"
            ]
          },
          "metadata": {},
          "execution_count": 11
        }
      ]
    },
    {
      "cell_type": "markdown",
      "metadata": {
        "id": "tRdI20jfsc4w"
      },
      "source": [
        "## Mineração e tratamento dos dados\n",
        "\n",
        "\n",
        "Antes de baixar os dados em CSV é necessário tratá-los adequadamente, ou seja, verificar valores nulos, converter os números. \n"
      ]
    },
    {
      "cell_type": "markdown",
      "metadata": {
        "id": "uD5kL9SPDH2D"
      },
      "source": [
        "É possivel visualizar que os dados mais preocupantes que devem ser tratados agora. Por exemplo os dados Nan. Precisamos torna-los 0. \n",
        "Para isso utilizamos a seguinte função\n",
        "```\n",
        "df_filt = df_filter.fillna(value=0)\n",
        "```\n",
        "\n",
        "\n",
        "\n"
      ]
    },
    {
      "cell_type": "code",
      "metadata": {
        "colab": {
          "base_uri": "https://localhost:8080/"
        },
        "id": "E5SBWep3DdD9",
        "outputId": "7d5453f2-e0d1-40b6-a48e-5dfc753c8432"
      },
      "source": [
        "\n",
        "\n",
        "df_filter.isna().sum()"
      ],
      "execution_count": null,
      "outputs": [
        {
          "output_type": "execute_result",
          "data": {
            "text/plain": [
              "Códigodo fundo          0\n",
              "Preço Atual             3\n",
              "Variação Preço          7\n",
              "PatrimônioLíq.          0\n",
              "P/VPA                   3\n",
              "VariaçãoPatrimonial    13\n",
              "Dividendo               0\n",
              "dtype: int64"
            ]
          },
          "metadata": {},
          "execution_count": 12
        }
      ]
    },
    {
      "cell_type": "code",
      "metadata": {
        "colab": {
          "base_uri": "https://localhost:8080/"
        },
        "id": "sZmMLr-WJYZ0",
        "outputId": "980c5f8f-f42b-4b0c-ee22-6a76cbe48531"
      },
      "source": [
        "df_filter = df_filter.fillna(value=0)\n",
        "df_filter.isna().sum() #conversão dos dados NaN\n",
        "\n",
        "#percebe-se que não há mais nenhum dado NaN, todos foram substituidos por 0 "
      ],
      "execution_count": null,
      "outputs": [
        {
          "output_type": "execute_result",
          "data": {
            "text/plain": [
              "Códigodo fundo         0\n",
              "Preço Atual            0\n",
              "Variação Preço         0\n",
              "PatrimônioLíq.         0\n",
              "P/VPA                  0\n",
              "VariaçãoPatrimonial    0\n",
              "Dividendo              0\n",
              "dtype: int64"
            ]
          },
          "metadata": {},
          "execution_count": 13
        }
      ]
    },
    {
      "cell_type": "markdown",
      "metadata": {
        "id": "is4Xf5GPLh2o"
      },
      "source": [
        "Agora é necessário remover algums caracteres, tal como 'R$' e a virgula e transformar os Dtype de object para float64\n",
        "\n"
      ]
    },
    {
      "cell_type": "code",
      "metadata": {
        "colab": {
          "base_uri": "https://localhost:8080/"
        },
        "id": "9QPWeSPNLwVN",
        "outputId": "80380056-551b-4244-9279-3ffd38469e02"
      },
      "source": [
        "df_filter.info()"
      ],
      "execution_count": null,
      "outputs": [
        {
          "output_type": "stream",
          "name": "stdout",
          "text": [
            "<class 'pandas.core.frame.DataFrame'>\n",
            "Int64Index: 100 entries, 4 to 253\n",
            "Data columns (total 7 columns):\n",
            " #   Column               Non-Null Count  Dtype  \n",
            "---  ------               --------------  -----  \n",
            " 0   Códigodo fundo       100 non-null    object \n",
            " 1   Preço Atual          100 non-null    object \n",
            " 2   Variação Preço       100 non-null    object \n",
            " 3   PatrimônioLíq.       100 non-null    object \n",
            " 4   P/VPA                100 non-null    float64\n",
            " 5   VariaçãoPatrimonial  100 non-null    object \n",
            " 6   Dividendo            100 non-null    object \n",
            "dtypes: float64(1), object(6)\n",
            "memory usage: 6.2+ KB\n"
          ]
        }
      ]
    },
    {
      "cell_type": "code",
      "metadata": {
        "id": "hV6kuqJIMvrR",
        "colab": {
          "base_uri": "https://localhost:8080/"
        },
        "outputId": "59266d96-6c7d-4c18-f15b-e24355add7e5"
      },
      "source": [
        "col_numeric = list(df_filter.iloc[:,1:].columns) #selecionando as colunas que devem ser float\n",
        "col_numeric"
      ],
      "execution_count": null,
      "outputs": [
        {
          "output_type": "execute_result",
          "data": {
            "text/plain": [
              "['Preço Atual',\n",
              " 'Variação Preço',\n",
              " 'PatrimônioLíq.',\n",
              " 'P/VPA',\n",
              " 'VariaçãoPatrimonial',\n",
              " 'Dividendo']"
            ]
          },
          "metadata": {},
          "execution_count": 15
        }
      ]
    },
    {
      "cell_type": "code",
      "metadata": {
        "colab": {
          "base_uri": "https://localhost:8080/",
          "height": 424
        },
        "id": "ErIaoUZVNT72",
        "outputId": "bbfdd893-610f-47f3-a4b7-8bc29a7aced8"
      },
      "source": [
        "df_filter=  df_filter.applymap(lambda x: str(x).replace('R$', '').replace('.0','').replace('.','').replace('%','').replace(',','.'))\n",
        "\n",
        "df_filter"
      ],
      "execution_count": null,
      "outputs": [
        {
          "output_type": "execute_result",
          "data": {
            "text/html": [
              "<div>\n",
              "<style scoped>\n",
              "    .dataframe tbody tr th:only-of-type {\n",
              "        vertical-align: middle;\n",
              "    }\n",
              "\n",
              "    .dataframe tbody tr th {\n",
              "        vertical-align: top;\n",
              "    }\n",
              "\n",
              "    .dataframe thead th {\n",
              "        text-align: right;\n",
              "    }\n",
              "</style>\n",
              "<table border=\"1\" class=\"dataframe\">\n",
              "  <thead>\n",
              "    <tr style=\"text-align: right;\">\n",
              "      <th></th>\n",
              "      <th>Códigodo fundo</th>\n",
              "      <th>Preço Atual</th>\n",
              "      <th>Variação Preço</th>\n",
              "      <th>PatrimônioLíq.</th>\n",
              "      <th>P/VPA</th>\n",
              "      <th>VariaçãoPatrimonial</th>\n",
              "      <th>Dividendo</th>\n",
              "    </tr>\n",
              "  </thead>\n",
              "  <tbody>\n",
              "    <tr>\n",
              "      <th>4</th>\n",
              "      <td>DOMC11</td>\n",
              "      <td>439.00</td>\n",
              "      <td>4.35</td>\n",
              "      <td>2712849.90</td>\n",
              "      <td>396</td>\n",
              "      <td>0</td>\n",
              "      <td>0.00</td>\n",
              "    </tr>\n",
              "    <tr>\n",
              "      <th>6</th>\n",
              "      <td>ORPD11</td>\n",
              "      <td>132.00</td>\n",
              "      <td>0</td>\n",
              "      <td>4497172.50</td>\n",
              "      <td>87</td>\n",
              "      <td>0</td>\n",
              "      <td>1.38</td>\n",
              "    </tr>\n",
              "    <tr>\n",
              "      <th>7</th>\n",
              "      <td>ATSA11</td>\n",
              "      <td>98.97</td>\n",
              "      <td>0.74</td>\n",
              "      <td>172430132.56</td>\n",
              "      <td>101</td>\n",
              "      <td>0</td>\n",
              "      <td>0.25</td>\n",
              "    </tr>\n",
              "    <tr>\n",
              "      <th>9</th>\n",
              "      <td>HTMX11</td>\n",
              "      <td>84.35</td>\n",
              "      <td>-28.14</td>\n",
              "      <td>16366779.62</td>\n",
              "      <td>65</td>\n",
              "      <td>0</td>\n",
              "      <td>0.00</td>\n",
              "    </tr>\n",
              "    <tr>\n",
              "      <th>14</th>\n",
              "      <td>FMOF11</td>\n",
              "      <td>67.21</td>\n",
              "      <td>0</td>\n",
              "      <td>66978758.80</td>\n",
              "      <td>51</td>\n",
              "      <td>0</td>\n",
              "      <td>0.64</td>\n",
              "    </tr>\n",
              "    <tr>\n",
              "      <th>...</th>\n",
              "      <td>...</td>\n",
              "      <td>...</td>\n",
              "      <td>...</td>\n",
              "      <td>...</td>\n",
              "      <td>...</td>\n",
              "      <td>...</td>\n",
              "      <td>...</td>\n",
              "    </tr>\n",
              "    <tr>\n",
              "      <th>238</th>\n",
              "      <td>XPPR11</td>\n",
              "      <td>60.78</td>\n",
              "      <td>-7.87</td>\n",
              "      <td>610739386.36</td>\n",
              "      <td>73</td>\n",
              "      <td>-0.61</td>\n",
              "      <td>0.55</td>\n",
              "    </tr>\n",
              "    <tr>\n",
              "      <th>245</th>\n",
              "      <td>RBVA11</td>\n",
              "      <td>95.70</td>\n",
              "      <td>-3.02</td>\n",
              "      <td>1315716222.34</td>\n",
              "      <td>84</td>\n",
              "      <td>0.17</td>\n",
              "      <td>0.91</td>\n",
              "    </tr>\n",
              "    <tr>\n",
              "      <th>251</th>\n",
              "      <td>PLRI11</td>\n",
              "      <td>39.10</td>\n",
              "      <td>-14.05</td>\n",
              "      <td>42838603.81</td>\n",
              "      <td>87</td>\n",
              "      <td>-8.26</td>\n",
              "      <td>0.20</td>\n",
              "    </tr>\n",
              "    <tr>\n",
              "      <th>252</th>\n",
              "      <td>BBFI11B</td>\n",
              "      <td>1964.99</td>\n",
              "      <td>-12.72</td>\n",
              "      <td>329827997.99</td>\n",
              "      <td>77</td>\n",
              "      <td>0.21</td>\n",
              "      <td>25.85</td>\n",
              "    </tr>\n",
              "    <tr>\n",
              "      <th>253</th>\n",
              "      <td>HSML11</td>\n",
              "      <td>69.84</td>\n",
              "      <td>-9.36</td>\n",
              "      <td>1502258980.61</td>\n",
              "      <td>73</td>\n",
              "      <td>0.10</td>\n",
              "      <td>0.52</td>\n",
              "    </tr>\n",
              "  </tbody>\n",
              "</table>\n",
              "<p>100 rows × 7 columns</p>\n",
              "</div>"
            ],
            "text/plain": [
              "    Códigodo fundo Preço Atual  ... VariaçãoPatrimonial Dividendo\n",
              "4           DOMC11      439.00  ...                   0      0.00\n",
              "6           ORPD11      132.00  ...                   0      1.38\n",
              "7           ATSA11       98.97  ...                   0      0.25\n",
              "9           HTMX11       84.35  ...                   0      0.00\n",
              "14          FMOF11       67.21  ...                   0      0.64\n",
              "..             ...         ...  ...                 ...       ...\n",
              "238         XPPR11       60.78  ...               -0.61      0.55\n",
              "245         RBVA11       95.70  ...                0.17      0.91\n",
              "251         PLRI11       39.10  ...               -8.26      0.20\n",
              "252        BBFI11B     1964.99  ...                0.21     25.85\n",
              "253         HSML11       69.84  ...                0.10      0.52\n",
              "\n",
              "[100 rows x 7 columns]"
            ]
          },
          "metadata": {},
          "execution_count": 16
        }
      ]
    },
    {
      "cell_type": "markdown",
      "metadata": {
        "id": "tIyGsK7Ia49W"
      },
      "source": [
        "O correto seria utilizar col_numeric da seguinte forma=\n",
        "\n",
        "\n",
        "\n",
        "```\n",
        "df_filter[col_numeric] = df_filter[col_numeric].astype('float') \n",
        "```\n",
        "\n",
        "Todavida, ocorre algum problema que ainda não identifiquei. então, de modo mais 'brute force', é possível ir convertando coluna por coluna, a solução não é a mais bonita!!!!\n",
        "\n"
      ]
    },
    {
      "cell_type": "code",
      "metadata": {
        "id": "h8SCdqHjVjqA",
        "colab": {
          "base_uri": "https://localhost:8080/",
          "height": 424
        },
        "outputId": "aa0d919b-69c1-4183-d821-7aa8217cfbbd"
      },
      "source": [
        "df_filter[ 'Preço Atual' ] = df_filter['Preço Atual'].astype(float)\n",
        "df_filter[ 'Variação Preço' ] = df_filter['Variação Preço'].astype(float)\n",
        "df_filter['PatrimônioLíq.'] = df_filter['PatrimônioLíq.'].astype(float)\n",
        "df_filter['P/VPA'] = df_filter['P/VPA'].astype(float)\n",
        "df_filter['VariaçãoPatrimonial'] = df_filter['VariaçãoPatrimonial'].astype(float)\n",
        "\n",
        "df_filter\n",
        "\n"
      ],
      "execution_count": null,
      "outputs": [
        {
          "output_type": "execute_result",
          "data": {
            "text/html": [
              "<div>\n",
              "<style scoped>\n",
              "    .dataframe tbody tr th:only-of-type {\n",
              "        vertical-align: middle;\n",
              "    }\n",
              "\n",
              "    .dataframe tbody tr th {\n",
              "        vertical-align: top;\n",
              "    }\n",
              "\n",
              "    .dataframe thead th {\n",
              "        text-align: right;\n",
              "    }\n",
              "</style>\n",
              "<table border=\"1\" class=\"dataframe\">\n",
              "  <thead>\n",
              "    <tr style=\"text-align: right;\">\n",
              "      <th></th>\n",
              "      <th>Códigodo fundo</th>\n",
              "      <th>Preço Atual</th>\n",
              "      <th>Variação Preço</th>\n",
              "      <th>PatrimônioLíq.</th>\n",
              "      <th>P/VPA</th>\n",
              "      <th>VariaçãoPatrimonial</th>\n",
              "      <th>Dividendo</th>\n",
              "    </tr>\n",
              "  </thead>\n",
              "  <tbody>\n",
              "    <tr>\n",
              "      <th>4</th>\n",
              "      <td>DOMC11</td>\n",
              "      <td>439.00</td>\n",
              "      <td>4.35</td>\n",
              "      <td>2.712850e+06</td>\n",
              "      <td>396.0</td>\n",
              "      <td>0.00</td>\n",
              "      <td>0.00</td>\n",
              "    </tr>\n",
              "    <tr>\n",
              "      <th>6</th>\n",
              "      <td>ORPD11</td>\n",
              "      <td>132.00</td>\n",
              "      <td>0.00</td>\n",
              "      <td>4.497172e+06</td>\n",
              "      <td>87.0</td>\n",
              "      <td>0.00</td>\n",
              "      <td>1.38</td>\n",
              "    </tr>\n",
              "    <tr>\n",
              "      <th>7</th>\n",
              "      <td>ATSA11</td>\n",
              "      <td>98.97</td>\n",
              "      <td>0.74</td>\n",
              "      <td>1.724301e+08</td>\n",
              "      <td>101.0</td>\n",
              "      <td>0.00</td>\n",
              "      <td>0.25</td>\n",
              "    </tr>\n",
              "    <tr>\n",
              "      <th>9</th>\n",
              "      <td>HTMX11</td>\n",
              "      <td>84.35</td>\n",
              "      <td>-28.14</td>\n",
              "      <td>1.636678e+07</td>\n",
              "      <td>65.0</td>\n",
              "      <td>0.00</td>\n",
              "      <td>0.00</td>\n",
              "    </tr>\n",
              "    <tr>\n",
              "      <th>14</th>\n",
              "      <td>FMOF11</td>\n",
              "      <td>67.21</td>\n",
              "      <td>0.00</td>\n",
              "      <td>6.697876e+07</td>\n",
              "      <td>51.0</td>\n",
              "      <td>0.00</td>\n",
              "      <td>0.64</td>\n",
              "    </tr>\n",
              "    <tr>\n",
              "      <th>...</th>\n",
              "      <td>...</td>\n",
              "      <td>...</td>\n",
              "      <td>...</td>\n",
              "      <td>...</td>\n",
              "      <td>...</td>\n",
              "      <td>...</td>\n",
              "      <td>...</td>\n",
              "    </tr>\n",
              "    <tr>\n",
              "      <th>238</th>\n",
              "      <td>XPPR11</td>\n",
              "      <td>60.78</td>\n",
              "      <td>-7.87</td>\n",
              "      <td>6.107394e+08</td>\n",
              "      <td>73.0</td>\n",
              "      <td>-0.61</td>\n",
              "      <td>0.55</td>\n",
              "    </tr>\n",
              "    <tr>\n",
              "      <th>245</th>\n",
              "      <td>RBVA11</td>\n",
              "      <td>95.70</td>\n",
              "      <td>-3.02</td>\n",
              "      <td>1.315716e+09</td>\n",
              "      <td>84.0</td>\n",
              "      <td>0.17</td>\n",
              "      <td>0.91</td>\n",
              "    </tr>\n",
              "    <tr>\n",
              "      <th>251</th>\n",
              "      <td>PLRI11</td>\n",
              "      <td>39.10</td>\n",
              "      <td>-14.05</td>\n",
              "      <td>4.283860e+07</td>\n",
              "      <td>87.0</td>\n",
              "      <td>-8.26</td>\n",
              "      <td>0.20</td>\n",
              "    </tr>\n",
              "    <tr>\n",
              "      <th>252</th>\n",
              "      <td>BBFI11B</td>\n",
              "      <td>1964.99</td>\n",
              "      <td>-12.72</td>\n",
              "      <td>3.298280e+08</td>\n",
              "      <td>77.0</td>\n",
              "      <td>0.21</td>\n",
              "      <td>25.85</td>\n",
              "    </tr>\n",
              "    <tr>\n",
              "      <th>253</th>\n",
              "      <td>HSML11</td>\n",
              "      <td>69.84</td>\n",
              "      <td>-9.36</td>\n",
              "      <td>1.502259e+09</td>\n",
              "      <td>73.0</td>\n",
              "      <td>0.10</td>\n",
              "      <td>0.52</td>\n",
              "    </tr>\n",
              "  </tbody>\n",
              "</table>\n",
              "<p>100 rows × 7 columns</p>\n",
              "</div>"
            ],
            "text/plain": [
              "    Códigodo fundo  Preço Atual  ...  VariaçãoPatrimonial  Dividendo\n",
              "4           DOMC11       439.00  ...                 0.00       0.00\n",
              "6           ORPD11       132.00  ...                 0.00       1.38\n",
              "7           ATSA11        98.97  ...                 0.00       0.25\n",
              "9           HTMX11        84.35  ...                 0.00       0.00\n",
              "14          FMOF11        67.21  ...                 0.00       0.64\n",
              "..             ...          ...  ...                  ...        ...\n",
              "238         XPPR11        60.78  ...                -0.61       0.55\n",
              "245         RBVA11        95.70  ...                 0.17       0.91\n",
              "251         PLRI11        39.10  ...                -8.26       0.20\n",
              "252        BBFI11B      1964.99  ...                 0.21      25.85\n",
              "253         HSML11        69.84  ...                 0.10       0.52\n",
              "\n",
              "[100 rows x 7 columns]"
            ]
          },
          "metadata": {},
          "execution_count": 17
        }
      ]
    },
    {
      "cell_type": "markdown",
      "metadata": {
        "id": "kGV-ZH4ylAyb"
      },
      "source": [
        "O processo de tratamento de dados está quase finalizado. Basta agora criar nossa classe e eliminar o atributo do nome do fundo. \n",
        "\n",
        "Para criar a classe iremos utilizar a seguinte fórmula\n",
        "\n",
        "    Lucro = Dividendo \n",
        "\n",
        "De modo bem simplista, tal formula representa o lucro que temos com um fundo."
      ]
    },
    {
      "cell_type": "markdown",
      "metadata": {
        "id": "Wqc3BsWBxGXy"
      },
      "source": [
        "Como a coluna com o tickets não é mais necessária, podemos retira-la e exportar os dados para o treinamento! "
      ]
    },
    {
      "cell_type": "code",
      "metadata": {
        "id": "3mtb7Deo1Rol"
      },
      "source": [
        "from google.colab import files"
      ],
      "execution_count": null,
      "outputs": []
    },
    {
      "cell_type": "code",
      "metadata": {
        "colab": {
          "base_uri": "https://localhost:8080/",
          "height": 17
        },
        "id": "vtGK7VqAy0AJ",
        "outputId": "e1cfefac-d280-4631-f9a6-a3576aef9bbb"
      },
      "source": [
        "df_final = df_filter.iloc[:,1:]\n",
        "\n",
        "\n",
        "df_final.to_csv('file_dates.csv',index = False)\n",
        "\n",
        "\n",
        "files.download('file_dates.csv')\n",
        "\n",
        "\n"
      ],
      "execution_count": null,
      "outputs": [
        {
          "output_type": "display_data",
          "data": {
            "application/javascript": [
              "\n",
              "    async function download(id, filename, size) {\n",
              "      if (!google.colab.kernel.accessAllowed) {\n",
              "        return;\n",
              "      }\n",
              "      const div = document.createElement('div');\n",
              "      const label = document.createElement('label');\n",
              "      label.textContent = `Downloading \"${filename}\": `;\n",
              "      div.appendChild(label);\n",
              "      const progress = document.createElement('progress');\n",
              "      progress.max = size;\n",
              "      div.appendChild(progress);\n",
              "      document.body.appendChild(div);\n",
              "\n",
              "      const buffers = [];\n",
              "      let downloaded = 0;\n",
              "\n",
              "      const channel = await google.colab.kernel.comms.open(id);\n",
              "      // Send a message to notify the kernel that we're ready.\n",
              "      channel.send({})\n",
              "\n",
              "      for await (const message of channel.messages) {\n",
              "        // Send a message to notify the kernel that we're ready.\n",
              "        channel.send({})\n",
              "        if (message.buffers) {\n",
              "          for (const buffer of message.buffers) {\n",
              "            buffers.push(buffer);\n",
              "            downloaded += buffer.byteLength;\n",
              "            progress.value = downloaded;\n",
              "          }\n",
              "        }\n",
              "      }\n",
              "      const blob = new Blob(buffers, {type: 'application/binary'});\n",
              "      const a = document.createElement('a');\n",
              "      a.href = window.URL.createObjectURL(blob);\n",
              "      a.download = filename;\n",
              "      div.appendChild(a);\n",
              "      a.click();\n",
              "      div.remove();\n",
              "    }\n",
              "  "
            ],
            "text/plain": [
              "<IPython.core.display.Javascript object>"
            ]
          },
          "metadata": {}
        },
        {
          "output_type": "display_data",
          "data": {
            "application/javascript": [
              "download(\"download_f30efd8f-8258-4f00-8e5d-a8deaea41fb3\", \"file_dates.csv\", 4128)"
            ],
            "text/plain": [
              "<IPython.core.display.Javascript object>"
            ]
          },
          "metadata": {}
        }
      ]
    }
  ]
}