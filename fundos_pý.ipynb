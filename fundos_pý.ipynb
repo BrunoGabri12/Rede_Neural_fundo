{
  "nbformat": 4,
  "nbformat_minor": 0,
  "metadata": {
    "colab": {
      "name": "fundos.pý",
      "provenance": [],
      "authorship_tag": "ABX9TyPlJl7FntNYj5ZE1aT5VLZe",
      "include_colab_link": true
    },
    "kernelspec": {
      "name": "python3",
      "display_name": "Python 3"
    },
    "language_info": {
      "name": "python"
    }
  },
  "cells": [
    {
      "cell_type": "markdown",
      "metadata": {
        "id": "view-in-github",
        "colab_type": "text"
      },
      "source": [
        "<a href=\"https://colab.research.google.com/github/BrunoGabri12/Rede_Neural_fundo/blob/master/fundos_p%C3%BD.ipynb\" target=\"_parent\"><img src=\"https://colab.research.google.com/assets/colab-badge.svg\" alt=\"Open In Colab\"/></a>"
      ]
    },
    {
      "cell_type": "markdown",
      "metadata": {
        "id": "6zh9se-Tz5vg"
      },
      "source": [
        "## Importação dos dados do site fundsexplorer"
      ]
    },
    {
      "cell_type": "code",
      "metadata": {
        "id": "1g_UZBSD0TpW"
      },
      "source": [
        "import requests\n",
        "import pandas as pd\n",
        "import numpy as np\n",
        "import random "
      ],
      "execution_count": 140,
      "outputs": []
    },
    {
      "cell_type": "code",
      "metadata": {
        "id": "zd5ytEFWEoB8"
      },
      "source": [
        "url = 'https://www.fundsexplorer.com.br/ranking'"
      ],
      "execution_count": 141,
      "outputs": []
    },
    {
      "cell_type": "code",
      "metadata": {
        "id": "hh2kvxobEqSe"
      },
      "source": [
        "response = requests.get(url)\n",
        "if response.status_code == 200:\n",
        "    df = pd.read_html(response.content, encoding='utf-8')[0]\n",
        "\n"
      ],
      "execution_count": 142,
      "outputs": []
    },
    {
      "cell_type": "markdown",
      "metadata": {
        "id": "OQHBgCEP0Bz_"
      },
      "source": [
        "## Sorteio Randomico de 55 fundos que servirão de base de dados para o treinamento\n",
        "\n",
        "\n",
        "tal valor representa cerca de 21% do conjunto dos dados"
      ]
    },
    {
      "cell_type": "code",
      "metadata": {
        "id": "WWG0gew8z5CR"
      },
      "source": [
        "cod_fundos = df['Códigodo fundo'] #código dos fundos obtidos\n",
        "\n"
      ],
      "execution_count": 157,
      "outputs": []
    },
    {
      "cell_type": "code",
      "metadata": {
        "colab": {
          "base_uri": "https://localhost:8080/"
        },
        "id": "HpIGyxHC0wiw",
        "outputId": "0f440186-ea31-4202-a5cc-dd36502b9183"
      },
      "source": [
        "\n",
        "new_funds = []\n",
        "\n",
        "\n",
        "randomico = random.sample(range(2,len(cod_fundos)),55)\n",
        "\n",
        "\n",
        "for i in range (0,50):\n",
        "  new_funds.append(cod_fundos[randomico[i]])\n",
        "\n",
        "print(new_funds)\n",
        "\n",
        "\n",
        "\n"
      ],
      "execution_count": 158,
      "outputs": [
        {
          "output_type": "stream",
          "name": "stdout",
          "text": [
            "['FIIB11', 'PLRI11', 'TEPP11', 'MGFF11', 'FLCR11', 'CJCT11', 'ALMI11', 'BTWR11', 'STRX11', 'VINO11', 'RBGS11', 'NVHO11', 'HRDF11', 'PRSV11', 'FVPQ11', 'VXXV11', 'CXCE11B', 'AFOF11', 'AFHI11', 'BCIA11', 'CXTL11', 'KNHY11', 'FEXC11', 'AIEC11', 'KISU11', 'PLOG11', 'BICR11', 'RBRF11', 'RNDP11', 'RDPD11', 'HGFF11', 'HGBS11', 'VGHF11', 'XTED11', 'RBIR11', 'MORE11', 'VGIR11', 'MGCR11', 'QIRI11', 'HCRI11', 'VIUR11', 'VTLT11', 'RBHG11', 'BTRA11', 'RBRL11', 'CEOC11', 'NEWU11', 'PLCR11', 'XPCM11', 'CTXT11']\n"
          ]
        }
      ]
    },
    {
      "cell_type": "markdown",
      "metadata": {
        "id": "HfdRRuPHEQvF"
      },
      "source": [
        "Os dados obtidos então foram os seguintes Tickets \n",
        "\n",
        "['SNCI11', 'PQAG11', 'KNHY11', 'JPPA11', 'LASC11', 'RBRP11', 'QAGR11', 'RFOF11', 'FLCR11', 'EVBI11', 'FATN11', 'PLCR11', 'HTMX11', 'CORM11', 'RZAK11', 'CRFF11', 'MGHT11', 'SDIL11', 'BLMR11', 'NSLU11', 'RBED11', 'HSLG11', 'FISC11', 'CARE11', 'CVBI11', 'KFOF11', 'MORE11', 'XPCI11', 'RRCI11', 'VIUR11', 'VXXV11', 'WPLZ11', 'SCPF11', 'CPTS11', 'HREC11', 'FIIP11B', 'DOMC11', 'HGFF11', 'QIRI11', 'OULG11', 'SPVJ11', 'OUJP11', 'FIIB11', 'NAVT11', 'VISC11', 'HCHG11', 'KISU11', 'BTLG11', 'ALMI11', 'KNRI11']\n",
        "\n"
      ]
    },
    {
      "cell_type": "markdown",
      "metadata": {
        "id": "mJe592GwE-jj"
      },
      "source": [
        "##Extração dos Dados da tabela"
      ]
    },
    {
      "cell_type": "code",
      "metadata": {
        "id": "HayKrNsdFOAS"
      },
      "source": [
        "tickets = ['SNCI11', 'PQAG11', 'KNHY11', 'JPPA11', 'LASC11', 'RBRP11', 'QAGR11', 'RFOF11', 'FLCR11', 'EVBI11', 'FATN11', 'PLCR11',\n",
        "           'HTMX11', 'CORM11', 'RZAK11', 'CRFF11', 'MGHT11', 'SDIL11', 'BLMR11', 'NSLU11', 'RBED11', 'HSLG11', 'FISC11', 'CARE11', \n",
        "           'CVBI11', 'KFOF11', 'MORE11', 'XPCI11', 'RRCI11', 'VIUR11', 'VXXV11', 'WPLZ11', 'SCPF11', 'CPTS11', 'HREC11', 'FIIP11B', \n",
        "           'DOMC11', 'HGFF11', 'QIRI11', 'OULG11', 'SPVJ11', 'OUJP11', 'FIIB11', 'NAVT11', 'VISC11', 'HCHG11', 'KISU11', 'BTLG11',\n",
        "           'ALMI11', 'KNRI11']\n",
        "\n",
        "\n",
        "\n",
        "\n",
        "prmt = ['Códigodo fundo','Preço Atual','Variação Preço',  #filtro dos atributos importantes \n",
        "        'DY (12M)Média', 'PatrimônioLíq.','P/VPA', 'VariaçãoPatrimonial']\n",
        "\n",
        "\n",
        "df2 = df[df['Códigodo fundo'].isin(tickets)] #filtrando pelos tickets\n",
        "df_filter =pd.DataFrame(df2[prmt])\n",
        "\n",
        "df_filter\n",
        "\n"
      ],
      "execution_count": null,
      "outputs": []
    },
    {
      "cell_type": "markdown",
      "metadata": {
        "id": "tRdI20jfsc4w"
      },
      "source": [
        "## Mineração e tratamento dos dados\n",
        "\n",
        "\n",
        "Antes de baixar os dados em CSV é necessário tratá-los adequadamente, ou seja, verificar valores nulos, converter os números. \n"
      ]
    },
    {
      "cell_type": "markdown",
      "metadata": {
        "id": "uD5kL9SPDH2D"
      },
      "source": [
        "É possivel visualizar que os dados mais preocupantes que devem ser tratados agora. Por exemplo os dados Nan. Precisamos torna-los 0. \n",
        "Para isso utilizamos a seguinte função\n",
        "```\n",
        "df_filt = df_filter.fillna(value=0)\n",
        "```\n",
        "\n",
        "\n",
        "\n"
      ]
    },
    {
      "cell_type": "code",
      "metadata": {
        "colab": {
          "base_uri": "https://localhost:8080/"
        },
        "id": "E5SBWep3DdD9",
        "outputId": "58cac2da-5416-4391-8a14-938317fa7beb"
      },
      "source": [
        "\n",
        "\n",
        "df_filter.isna().sum()"
      ],
      "execution_count": 279,
      "outputs": [
        {
          "output_type": "execute_result",
          "data": {
            "text/plain": [
              "Códigodo fundo         0\n",
              "Preço Atual            1\n",
              "Variação Preço         1\n",
              "DY (12M)Média          2\n",
              "PatrimônioLíq.         0\n",
              "P/VPA                  1\n",
              "VariaçãoPatrimonial    9\n",
              "dtype: int64"
            ]
          },
          "metadata": {},
          "execution_count": 279
        }
      ]
    },
    {
      "cell_type": "code",
      "metadata": {
        "colab": {
          "base_uri": "https://localhost:8080/"
        },
        "id": "sZmMLr-WJYZ0",
        "outputId": "d1949305-01d4-48b9-ffb7-5d2e63c7f721"
      },
      "source": [
        "df_filter = df_filter.fillna(value=0)\n",
        "df_filter.isna().sum() #conversão dos dados NaN\n",
        "\n",
        "#percebe-se que não há mais nenhum dado NaN, todos foram substituidos por 0 "
      ],
      "execution_count": 280,
      "outputs": [
        {
          "output_type": "execute_result",
          "data": {
            "text/plain": [
              "Códigodo fundo         0\n",
              "Preço Atual            0\n",
              "Variação Preço         0\n",
              "DY (12M)Média          0\n",
              "PatrimônioLíq.         0\n",
              "P/VPA                  0\n",
              "VariaçãoPatrimonial    0\n",
              "dtype: int64"
            ]
          },
          "metadata": {},
          "execution_count": 280
        }
      ]
    },
    {
      "cell_type": "markdown",
      "metadata": {
        "id": "is4Xf5GPLh2o"
      },
      "source": [
        "Agora é necessário remover algums caracteres, tal como 'R$' e a virgula e transformar os Dtype de object para float64\n",
        "\n"
      ]
    },
    {
      "cell_type": "code",
      "metadata": {
        "colab": {
          "base_uri": "https://localhost:8080/"
        },
        "id": "9QPWeSPNLwVN",
        "outputId": "b7e6b48e-e1b3-4c0f-b793-20200f3723e0"
      },
      "source": [
        "df_filter.info()"
      ],
      "execution_count": 294,
      "outputs": [
        {
          "output_type": "stream",
          "name": "stdout",
          "text": [
            "<class 'pandas.core.frame.DataFrame'>\n",
            "Int64Index: 50 entries, 3 to 236\n",
            "Data columns (total 7 columns):\n",
            " #   Column               Non-Null Count  Dtype  \n",
            "---  ------               --------------  -----  \n",
            " 0   Códigodo fundo       50 non-null     object \n",
            " 1   Preço Atual          50 non-null     float64\n",
            " 2   Variação Preço       50 non-null     float64\n",
            " 3   DY (12M)Média        50 non-null     float64\n",
            " 4   PatrimônioLíq.       50 non-null     float64\n",
            " 5   P/VPA                50 non-null     float64\n",
            " 6   VariaçãoPatrimonial  50 non-null     float64\n",
            "dtypes: float64(6), object(1)\n",
            "memory usage: 3.1+ KB\n"
          ]
        }
      ]
    },
    {
      "cell_type": "code",
      "metadata": {
        "id": "hV6kuqJIMvrR"
      },
      "source": [
        "col_numeric = list(df_filter.iloc[:,1:].columns) #selecionando as colunas que devem ser float\n",
        "col_numeric"
      ],
      "execution_count": null,
      "outputs": []
    },
    {
      "cell_type": "code",
      "metadata": {
        "colab": {
          "base_uri": "https://localhost:8080/",
          "height": 1000
        },
        "id": "ErIaoUZVNT72",
        "outputId": "e557ec38-9dba-4a39-e086-2de5dd2b0b16"
      },
      "source": [
        "df_filter=  df_filter.applymap(lambda x: str(x).replace('R$', '').replace('.0','').replace('.','').replace('%','').replace(',','.'))\n",
        "\n",
        "df_filter"
      ],
      "execution_count": 284,
      "outputs": [
        {
          "output_type": "execute_result",
          "data": {
            "text/html": [
              "<div>\n",
              "<style scoped>\n",
              "    .dataframe tbody tr th:only-of-type {\n",
              "        vertical-align: middle;\n",
              "    }\n",
              "\n",
              "    .dataframe tbody tr th {\n",
              "        vertical-align: top;\n",
              "    }\n",
              "\n",
              "    .dataframe thead th {\n",
              "        text-align: right;\n",
              "    }\n",
              "</style>\n",
              "<table border=\"1\" class=\"dataframe\">\n",
              "  <thead>\n",
              "    <tr style=\"text-align: right;\">\n",
              "      <th></th>\n",
              "      <th>Códigodo fundo</th>\n",
              "      <th>Preço Atual</th>\n",
              "      <th>Variação Preço</th>\n",
              "      <th>DY (12M)Média</th>\n",
              "      <th>PatrimônioLíq.</th>\n",
              "      <th>P/VPA</th>\n",
              "      <th>VariaçãoPatrimonial</th>\n",
              "    </tr>\n",
              "  </thead>\n",
              "  <tbody>\n",
              "    <tr>\n",
              "      <th>3</th>\n",
              "      <td>ALMI11</td>\n",
              "      <td>125.00</td>\n",
              "      <td>2.27</td>\n",
              "      <td>0.00</td>\n",
              "      <td>228903166.69</td>\n",
              "      <td>50</td>\n",
              "      <td>0</td>\n",
              "    </tr>\n",
              "    <tr>\n",
              "      <th>4</th>\n",
              "      <td>DOMC11</td>\n",
              "      <td>439.00</td>\n",
              "      <td>4.35</td>\n",
              "      <td>0.00</td>\n",
              "      <td>2712849.90</td>\n",
              "      <td>396</td>\n",
              "      <td>0</td>\n",
              "    </tr>\n",
              "    <tr>\n",
              "      <th>9</th>\n",
              "      <td>HTMX11</td>\n",
              "      <td>87.99</td>\n",
              "      <td>-28.14</td>\n",
              "      <td>0.45</td>\n",
              "      <td>16366779.62</td>\n",
              "      <td>68</td>\n",
              "      <td>0</td>\n",
              "    </tr>\n",
              "    <tr>\n",
              "      <th>18</th>\n",
              "      <td>VXXV11</td>\n",
              "      <td>850.00</td>\n",
              "      <td>0</td>\n",
              "      <td>0</td>\n",
              "      <td>11763166.12</td>\n",
              "      <td>128</td>\n",
              "      <td>0</td>\n",
              "    </tr>\n",
              "    <tr>\n",
              "      <th>30</th>\n",
              "      <td>CARE11</td>\n",
              "      <td>0.40</td>\n",
              "      <td>-2.63</td>\n",
              "      <td>0.13</td>\n",
              "      <td>285292727.14</td>\n",
              "      <td>25</td>\n",
              "      <td>0</td>\n",
              "    </tr>\n",
              "    <tr>\n",
              "      <th>33</th>\n",
              "      <td>OUJP11</td>\n",
              "      <td>85.15</td>\n",
              "      <td>1.65</td>\n",
              "      <td>0.80</td>\n",
              "      <td>32309727.56</td>\n",
              "      <td>86</td>\n",
              "      <td>-3.79</td>\n",
              "    </tr>\n",
              "    <tr>\n",
              "      <th>36</th>\n",
              "      <td>KNHY11</td>\n",
              "      <td>105.00</td>\n",
              "      <td>-2.84</td>\n",
              "      <td>1.08</td>\n",
              "      <td>1365296651.12</td>\n",
              "      <td>110</td>\n",
              "      <td>-2.42</td>\n",
              "    </tr>\n",
              "    <tr>\n",
              "      <th>40</th>\n",
              "      <td>KFOF11</td>\n",
              "      <td>69.41</td>\n",
              "      <td>0.54</td>\n",
              "      <td>0.62</td>\n",
              "      <td>419867662.51</td>\n",
              "      <td>75</td>\n",
              "      <td>-2.82</td>\n",
              "    </tr>\n",
              "    <tr>\n",
              "      <th>41</th>\n",
              "      <td>SDIL11</td>\n",
              "      <td>83.54</td>\n",
              "      <td>-5.12</td>\n",
              "      <td>0.65</td>\n",
              "      <td>627743973.47</td>\n",
              "      <td>85</td>\n",
              "      <td>-2.44</td>\n",
              "    </tr>\n",
              "    <tr>\n",
              "      <th>43</th>\n",
              "      <td>HGFF11</td>\n",
              "      <td>66.21</td>\n",
              "      <td>-3.13</td>\n",
              "      <td>0.65</td>\n",
              "      <td>252338274.99</td>\n",
              "      <td>75</td>\n",
              "      <td>-2.04</td>\n",
              "    </tr>\n",
              "    <tr>\n",
              "      <th>50</th>\n",
              "      <td>VISC11</td>\n",
              "      <td>95.00</td>\n",
              "      <td>-2.44</td>\n",
              "      <td>0.43</td>\n",
              "      <td>261532252.76</td>\n",
              "      <td>82</td>\n",
              "      <td>-2.35</td>\n",
              "    </tr>\n",
              "    <tr>\n",
              "      <th>52</th>\n",
              "      <td>RBED11</td>\n",
              "      <td>119.80</td>\n",
              "      <td>-3.92</td>\n",
              "      <td>0.71</td>\n",
              "      <td>286143262.87</td>\n",
              "      <td>85</td>\n",
              "      <td>-5.79</td>\n",
              "    </tr>\n",
              "    <tr>\n",
              "      <th>56</th>\n",
              "      <td>HSLG11</td>\n",
              "      <td>81.16</td>\n",
              "      <td>-3.54</td>\n",
              "      <td>0.00</td>\n",
              "      <td>1426126508.98</td>\n",
              "      <td>72</td>\n",
              "      <td>-0.11</td>\n",
              "    </tr>\n",
              "    <tr>\n",
              "      <th>68</th>\n",
              "      <td>KISU11</td>\n",
              "      <td>7.27</td>\n",
              "      <td>-9.58</td>\n",
              "      <td>0.00</td>\n",
              "      <td>397540257.63</td>\n",
              "      <td>81</td>\n",
              "      <td>-2.68</td>\n",
              "    </tr>\n",
              "    <tr>\n",
              "      <th>73</th>\n",
              "      <td>LASC11</td>\n",
              "      <td>91.99</td>\n",
              "      <td>1.17</td>\n",
              "      <td>0.49</td>\n",
              "      <td>258117743.49</td>\n",
              "      <td>90</td>\n",
              "      <td>-0.22</td>\n",
              "    </tr>\n",
              "    <tr>\n",
              "      <th>76</th>\n",
              "      <td>QIRI11</td>\n",
              "      <td>86.21</td>\n",
              "      <td>0.43</td>\n",
              "      <td>0.67</td>\n",
              "      <td>13214243.75</td>\n",
              "      <td>98</td>\n",
              "      <td>-1.75</td>\n",
              "    </tr>\n",
              "    <tr>\n",
              "      <th>78</th>\n",
              "      <td>SPVJ11</td>\n",
              "      <td>0</td>\n",
              "      <td>0.00</td>\n",
              "      <td>0.00</td>\n",
              "      <td>614803499.14</td>\n",
              "      <td>0</td>\n",
              "      <td>0.03</td>\n",
              "    </tr>\n",
              "    <tr>\n",
              "      <th>79</th>\n",
              "      <td>XPCI11</td>\n",
              "      <td>94.61</td>\n",
              "      <td>0.46</td>\n",
              "      <td>0.91</td>\n",
              "      <td>622859215.81</td>\n",
              "      <td>100</td>\n",
              "      <td>-0.83</td>\n",
              "    </tr>\n",
              "    <tr>\n",
              "      <th>83</th>\n",
              "      <td>HCHG11</td>\n",
              "      <td>91.50</td>\n",
              "      <td>-2.17</td>\n",
              "      <td>0.00</td>\n",
              "      <td>110681450.15</td>\n",
              "      <td>99</td>\n",
              "      <td>-3.19</td>\n",
              "    </tr>\n",
              "    <tr>\n",
              "      <th>88</th>\n",
              "      <td>HREC11</td>\n",
              "      <td>96.99</td>\n",
              "      <td>-0.29</td>\n",
              "      <td>0.61</td>\n",
              "      <td>261263165.92</td>\n",
              "      <td>106</td>\n",
              "      <td>-2.78</td>\n",
              "    </tr>\n",
              "    <tr>\n",
              "      <th>91</th>\n",
              "      <td>PQAG11</td>\n",
              "      <td>61.00</td>\n",
              "      <td>1.62</td>\n",
              "      <td>0.55</td>\n",
              "      <td>795769348.69</td>\n",
              "      <td>107</td>\n",
              "      <td>0.01</td>\n",
              "    </tr>\n",
              "    <tr>\n",
              "      <th>92</th>\n",
              "      <td>PLCR11</td>\n",
              "      <td>86.41</td>\n",
              "      <td>-0.89</td>\n",
              "      <td>0.90</td>\n",
              "      <td>192705466.48</td>\n",
              "      <td>95</td>\n",
              "      <td>-2.14</td>\n",
              "    </tr>\n",
              "    <tr>\n",
              "      <th>98</th>\n",
              "      <td>WPLZ11</td>\n",
              "      <td>64.00</td>\n",
              "      <td>0.00</td>\n",
              "      <td>0.00</td>\n",
              "      <td>105824732.10</td>\n",
              "      <td>62</td>\n",
              "      <td>0.06</td>\n",
              "    </tr>\n",
              "    <tr>\n",
              "      <th>99</th>\n",
              "      <td>NSLU11</td>\n",
              "      <td>202.66</td>\n",
              "      <td>-0.94</td>\n",
              "      <td>0.73</td>\n",
              "      <td>244408444.00</td>\n",
              "      <td>95</td>\n",
              "      <td>0</td>\n",
              "    </tr>\n",
              "    <tr>\n",
              "      <th>102</th>\n",
              "      <td>EVBI11</td>\n",
              "      <td>96.57</td>\n",
              "      <td>1.44</td>\n",
              "      <td>0.00</td>\n",
              "      <td>109887149.60</td>\n",
              "      <td>95</td>\n",
              "      <td>0</td>\n",
              "    </tr>\n",
              "    <tr>\n",
              "      <th>103</th>\n",
              "      <td>FIIB11</td>\n",
              "      <td>425.80</td>\n",
              "      <td>-3.83</td>\n",
              "      <td>0.63</td>\n",
              "      <td>303193177.08</td>\n",
              "      <td>96</td>\n",
              "      <td>0</td>\n",
              "    </tr>\n",
              "    <tr>\n",
              "      <th>112</th>\n",
              "      <td>JPPA11</td>\n",
              "      <td>95.09</td>\n",
              "      <td>1.71</td>\n",
              "      <td>0.94</td>\n",
              "      <td>61842606.22</td>\n",
              "      <td>93</td>\n",
              "      <td>-1.27</td>\n",
              "    </tr>\n",
              "    <tr>\n",
              "      <th>113</th>\n",
              "      <td>KNRI11</td>\n",
              "      <td>134.00</td>\n",
              "      <td>-7.69</td>\n",
              "      <td>0.47</td>\n",
              "      <td>3783350226.18</td>\n",
              "      <td>86</td>\n",
              "      <td>-0.46</td>\n",
              "    </tr>\n",
              "    <tr>\n",
              "      <th>116</th>\n",
              "      <td>FIIP11B</td>\n",
              "      <td>154.40</td>\n",
              "      <td>4.49</td>\n",
              "      <td>0.61</td>\n",
              "      <td>185752616.43</td>\n",
              "      <td>77</td>\n",
              "      <td>0.06</td>\n",
              "    </tr>\n",
              "    <tr>\n",
              "      <th>124</th>\n",
              "      <td>VIUR11</td>\n",
              "      <td>75.40</td>\n",
              "      <td>-0.34</td>\n",
              "      <td>0.00</td>\n",
              "      <td>257339386.23</td>\n",
              "      <td>79</td>\n",
              "      <td>-0.39</td>\n",
              "    </tr>\n",
              "    <tr>\n",
              "      <th>138</th>\n",
              "      <td>RFOF11</td>\n",
              "      <td>66.97</td>\n",
              "      <td>-3.52</td>\n",
              "      <td>0.76</td>\n",
              "      <td>90309678.01</td>\n",
              "      <td>80</td>\n",
              "      <td>-2.97</td>\n",
              "    </tr>\n",
              "    <tr>\n",
              "      <th>160</th>\n",
              "      <td>RRCI11</td>\n",
              "      <td>77.88</td>\n",
              "      <td>-0.71</td>\n",
              "      <td>0.00</td>\n",
              "      <td>46937180.72</td>\n",
              "      <td>80</td>\n",
              "      <td>-0.02</td>\n",
              "    </tr>\n",
              "    <tr>\n",
              "      <th>165</th>\n",
              "      <td>QAGR11</td>\n",
              "      <td>47.56</td>\n",
              "      <td>-0.10</td>\n",
              "      <td>0.68</td>\n",
              "      <td>30118786.40</td>\n",
              "      <td>80</td>\n",
              "      <td>0</td>\n",
              "    </tr>\n",
              "    <tr>\n",
              "      <th>168</th>\n",
              "      <td>CRFF11</td>\n",
              "      <td>67.10</td>\n",
              "      <td>1.33</td>\n",
              "      <td>0.57</td>\n",
              "      <td>59337582.28</td>\n",
              "      <td>78</td>\n",
              "      <td>-1.71</td>\n",
              "    </tr>\n",
              "    <tr>\n",
              "      <th>175</th>\n",
              "      <td>FISC11</td>\n",
              "      <td>165.00</td>\n",
              "      <td>0.00</td>\n",
              "      <td>0.00</td>\n",
              "      <td>255252957.06</td>\n",
              "      <td>106</td>\n",
              "      <td>0.00</td>\n",
              "    </tr>\n",
              "    <tr>\n",
              "      <th>177</th>\n",
              "      <td>FATN11</td>\n",
              "      <td>100.59</td>\n",
              "      <td>-0.56</td>\n",
              "      <td>0.65</td>\n",
              "      <td>81262840.36</td>\n",
              "      <td>100</td>\n",
              "      <td>0.03</td>\n",
              "    </tr>\n",
              "    <tr>\n",
              "      <th>178</th>\n",
              "      <td>SCPF11</td>\n",
              "      <td>8.18</td>\n",
              "      <td>-1.36</td>\n",
              "      <td>0.23</td>\n",
              "      <td>53388132.22</td>\n",
              "      <td>64</td>\n",
              "      <td>0.17</td>\n",
              "    </tr>\n",
              "    <tr>\n",
              "      <th>179</th>\n",
              "      <td>BLMR11</td>\n",
              "      <td>7.00</td>\n",
              "      <td>-1.31</td>\n",
              "      <td>0.00</td>\n",
              "      <td>21987583.85</td>\n",
              "      <td>82</td>\n",
              "      <td>-2.83</td>\n",
              "    </tr>\n",
              "    <tr>\n",
              "      <th>198</th>\n",
              "      <td>RBRP11</td>\n",
              "      <td>67.48</td>\n",
              "      <td>-7.71</td>\n",
              "      <td>0.53</td>\n",
              "      <td>121476303.15</td>\n",
              "      <td>80</td>\n",
              "      <td>-1.74</td>\n",
              "    </tr>\n",
              "    <tr>\n",
              "      <th>204</th>\n",
              "      <td>FLCR11</td>\n",
              "      <td>99.97</td>\n",
              "      <td>-1.15</td>\n",
              "      <td>0.00</td>\n",
              "      <td>50188524.43</td>\n",
              "      <td>100</td>\n",
              "      <td>-0.36</td>\n",
              "    </tr>\n",
              "    <tr>\n",
              "      <th>205</th>\n",
              "      <td>CVBI11</td>\n",
              "      <td>101.03</td>\n",
              "      <td>-1.18</td>\n",
              "      <td>1.11</td>\n",
              "      <td>992561198.83</td>\n",
              "      <td>101</td>\n",
              "      <td>0.16</td>\n",
              "    </tr>\n",
              "    <tr>\n",
              "      <th>212</th>\n",
              "      <td>CPTS11</td>\n",
              "      <td>95.51</td>\n",
              "      <td>-1.77</td>\n",
              "      <td>1.01</td>\n",
              "      <td>2415410950.99</td>\n",
              "      <td>102</td>\n",
              "      <td>-0.48</td>\n",
              "    </tr>\n",
              "    <tr>\n",
              "      <th>218</th>\n",
              "      <td>MGHT11</td>\n",
              "      <td>89.95</td>\n",
              "      <td>-0.55</td>\n",
              "      <td>0.68</td>\n",
              "      <td>128767408.72</td>\n",
              "      <td>92</td>\n",
              "      <td>-0.18</td>\n",
              "    </tr>\n",
              "    <tr>\n",
              "      <th>219</th>\n",
              "      <td>OULG11</td>\n",
              "      <td>48.89</td>\n",
              "      <td>-13.18</td>\n",
              "      <td>0.74</td>\n",
              "      <td>230675763.92</td>\n",
              "      <td>53</td>\n",
              "      <td>0.07</td>\n",
              "    </tr>\n",
              "    <tr>\n",
              "      <th>222</th>\n",
              "      <td>SNCI11</td>\n",
              "      <td>100.04</td>\n",
              "      <td>0.00</td>\n",
              "      <td>0</td>\n",
              "      <td>122754800.82</td>\n",
              "      <td>99</td>\n",
              "      <td>0.32</td>\n",
              "    </tr>\n",
              "    <tr>\n",
              "      <th>226</th>\n",
              "      <td>NAVT11</td>\n",
              "      <td>69.30</td>\n",
              "      <td>-0.72</td>\n",
              "      <td>0.00</td>\n",
              "      <td>9480806.31</td>\n",
              "      <td>77</td>\n",
              "      <td>-1.85</td>\n",
              "    </tr>\n",
              "    <tr>\n",
              "      <th>227</th>\n",
              "      <td>MORE11</td>\n",
              "      <td>70.56</td>\n",
              "      <td>-5.22</td>\n",
              "      <td>0.73</td>\n",
              "      <td>209806311.68</td>\n",
              "      <td>78</td>\n",
              "      <td>-2.93</td>\n",
              "    </tr>\n",
              "    <tr>\n",
              "      <th>229</th>\n",
              "      <td>BTLG11</td>\n",
              "      <td>101.30</td>\n",
              "      <td>-3.84</td>\n",
              "      <td>0.61</td>\n",
              "      <td>1527125713.91</td>\n",
              "      <td>101</td>\n",
              "      <td>0.71</td>\n",
              "    </tr>\n",
              "    <tr>\n",
              "      <th>233</th>\n",
              "      <td>CORM11</td>\n",
              "      <td>104.00</td>\n",
              "      <td>-1.39</td>\n",
              "      <td>0.00</td>\n",
              "      <td>86469898.71</td>\n",
              "      <td>110</td>\n",
              "      <td>-1.09</td>\n",
              "    </tr>\n",
              "    <tr>\n",
              "      <th>236</th>\n",
              "      <td>RZAK11</td>\n",
              "      <td>83.37</td>\n",
              "      <td>-4.90</td>\n",
              "      <td>0.00</td>\n",
              "      <td>286473719.51</td>\n",
              "      <td>87</td>\n",
              "      <td>-0.63</td>\n",
              "    </tr>\n",
              "  </tbody>\n",
              "</table>\n",
              "</div>"
            ],
            "text/plain": [
              "    Códigodo fundo Preço Atual  ... P/VPA VariaçãoPatrimonial\n",
              "3           ALMI11      125.00  ...    50                   0\n",
              "4           DOMC11      439.00  ...   396                   0\n",
              "9           HTMX11       87.99  ...    68                   0\n",
              "18          VXXV11      850.00  ...   128                   0\n",
              "30          CARE11        0.40  ...    25                   0\n",
              "33          OUJP11       85.15  ...    86               -3.79\n",
              "36          KNHY11      105.00  ...   110               -2.42\n",
              "40          KFOF11       69.41  ...    75               -2.82\n",
              "41          SDIL11       83.54  ...    85               -2.44\n",
              "43          HGFF11       66.21  ...    75               -2.04\n",
              "50          VISC11       95.00  ...    82               -2.35\n",
              "52          RBED11      119.80  ...    85               -5.79\n",
              "56          HSLG11       81.16  ...    72               -0.11\n",
              "68          KISU11        7.27  ...    81               -2.68\n",
              "73          LASC11       91.99  ...    90               -0.22\n",
              "76          QIRI11       86.21  ...    98               -1.75\n",
              "78          SPVJ11           0  ...     0                0.03\n",
              "79          XPCI11       94.61  ...   100               -0.83\n",
              "83          HCHG11       91.50  ...    99               -3.19\n",
              "88          HREC11       96.99  ...   106               -2.78\n",
              "91          PQAG11       61.00  ...   107                0.01\n",
              "92          PLCR11       86.41  ...    95               -2.14\n",
              "98          WPLZ11       64.00  ...    62                0.06\n",
              "99          NSLU11      202.66  ...    95                   0\n",
              "102         EVBI11       96.57  ...    95                   0\n",
              "103         FIIB11      425.80  ...    96                   0\n",
              "112         JPPA11       95.09  ...    93               -1.27\n",
              "113         KNRI11      134.00  ...    86               -0.46\n",
              "116        FIIP11B      154.40  ...    77                0.06\n",
              "124         VIUR11       75.40  ...    79               -0.39\n",
              "138         RFOF11       66.97  ...    80               -2.97\n",
              "160         RRCI11       77.88  ...    80               -0.02\n",
              "165         QAGR11       47.56  ...    80                   0\n",
              "168         CRFF11       67.10  ...    78               -1.71\n",
              "175         FISC11      165.00  ...   106                0.00\n",
              "177         FATN11      100.59  ...   100                0.03\n",
              "178         SCPF11        8.18  ...    64                0.17\n",
              "179         BLMR11        7.00  ...    82               -2.83\n",
              "198         RBRP11       67.48  ...    80               -1.74\n",
              "204         FLCR11       99.97  ...   100               -0.36\n",
              "205         CVBI11      101.03  ...   101                0.16\n",
              "212         CPTS11       95.51  ...   102               -0.48\n",
              "218         MGHT11       89.95  ...    92               -0.18\n",
              "219         OULG11       48.89  ...    53                0.07\n",
              "222         SNCI11      100.04  ...    99                0.32\n",
              "226         NAVT11       69.30  ...    77               -1.85\n",
              "227         MORE11       70.56  ...    78               -2.93\n",
              "229         BTLG11      101.30  ...   101                0.71\n",
              "233         CORM11      104.00  ...   110               -1.09\n",
              "236         RZAK11       83.37  ...    87               -0.63\n",
              "\n",
              "[50 rows x 7 columns]"
            ]
          },
          "metadata": {},
          "execution_count": 284
        }
      ]
    },
    {
      "cell_type": "markdown",
      "metadata": {
        "id": "tIyGsK7Ia49W"
      },
      "source": [
        "O correto seria utilizar col_numeric da seguinte forma=\n",
        "\n",
        "\n",
        "\n",
        "```\n",
        "df_filter[col_numeric] = df_filter[col_numeric].astype('float') \n",
        "```\n",
        "\n",
        "Todavida, ocorre algum problema que ainda não identifiquei. então, de modo mais 'brute force', é possível ir convertando coluna por coluna, a solução não é a mais bonita!!!!\n",
        "\n"
      ]
    },
    {
      "cell_type": "code",
      "metadata": {
        "id": "h8SCdqHjVjqA"
      },
      "source": [
        "df_filter[ 'Preço Atual' ] = df_filter['Preço Atual'].astype(float)\n",
        "df_filter[ 'Variação Preço' ] = df_filter['Variação Preço'].astype(float)\n",
        "df_filter['DY (12M)Média'] = df_filter['DY (12M)Média'].astype(float)\n",
        "df_filter['PatrimônioLíq.'] = df_filter['PatrimônioLíq.'].astype(float)\n",
        "df_filter['P/VPA'] = df_filter['P/VPA'].astype(float)\n",
        "df_filter['VariaçãoPatrimonial'] = df_filter['VariaçãoPatrimonial'].astype(float)\n",
        "\n",
        "df_filter\n",
        "\n"
      ],
      "execution_count": null,
      "outputs": []
    },
    {
      "cell_type": "markdown",
      "metadata": {
        "id": "kGV-ZH4ylAyb"
      },
      "source": [
        "O processo de tratamento de dados está quase finalizado. Basta agora criar nossa classe e eliminar o atributo do nome do fundo. \n",
        "\n",
        "Para criar a classe iremos utilizar a seguinte fórmula\n",
        "\n",
        "    Lucro = Preço Atual*(Variação Preço + Dividend Yield)\n",
        "\n",
        "De modo bem simplista, tal formula representa o lucro que temos com um fundo, ou seja, o quanto a cota do fundo se valorizou mais a média de quanto recebemos de dividendo. "
      ]
    },
    {
      "cell_type": "code",
      "metadata": {
        "id": "iCmVZPfZoBj8"
      },
      "source": [
        "lucro = df_filter['Preço Atual']*(df_filter['Variação Preço']+ df_filter['DY (12M)Média'])\n",
        "classification= pd.DataFrame(lucro, columns=['Lucro'])\n",
        "\n",
        "\n",
        "#criação da classe"
      ],
      "execution_count": 292,
      "outputs": []
    },
    {
      "cell_type": "markdown",
      "metadata": {
        "id": "Wqc3BsWBxGXy"
      },
      "source": [
        "Como a coluna com o tickets não é mais necessária, podemos retira-la e exportar os dados para o treinamento! "
      ]
    },
    {
      "cell_type": "code",
      "metadata": {
        "id": "3mtb7Deo1Rol"
      },
      "source": [
        "from google.colab import files"
      ],
      "execution_count": 302,
      "outputs": []
    },
    {
      "cell_type": "code",
      "metadata": {
        "colab": {
          "base_uri": "https://localhost:8080/",
          "height": 17
        },
        "id": "vtGK7VqAy0AJ",
        "outputId": "afd6fb9c-c6b6-4189-dcb8-7ab2cd4116cf"
      },
      "source": [
        "df_final = df_filter.iloc[:,1:]\n",
        "\n",
        "\n",
        "df_final.to_csv('file_dates.csv',index = False, header=False)\n",
        "classification.to_csv('classification.csv',index = False, header=False)\n",
        "\n",
        "files.download('file_dates.csv')\n",
        "files.download('classification.csv')\n",
        "\n"
      ],
      "execution_count": 309,
      "outputs": [
        {
          "output_type": "display_data",
          "data": {
            "application/javascript": [
              "\n",
              "    async function download(id, filename, size) {\n",
              "      if (!google.colab.kernel.accessAllowed) {\n",
              "        return;\n",
              "      }\n",
              "      const div = document.createElement('div');\n",
              "      const label = document.createElement('label');\n",
              "      label.textContent = `Downloading \"${filename}\": `;\n",
              "      div.appendChild(label);\n",
              "      const progress = document.createElement('progress');\n",
              "      progress.max = size;\n",
              "      div.appendChild(progress);\n",
              "      document.body.appendChild(div);\n",
              "\n",
              "      const buffers = [];\n",
              "      let downloaded = 0;\n",
              "\n",
              "      const channel = await google.colab.kernel.comms.open(id);\n",
              "      // Send a message to notify the kernel that we're ready.\n",
              "      channel.send({})\n",
              "\n",
              "      for await (const message of channel.messages) {\n",
              "        // Send a message to notify the kernel that we're ready.\n",
              "        channel.send({})\n",
              "        if (message.buffers) {\n",
              "          for (const buffer of message.buffers) {\n",
              "            buffers.push(buffer);\n",
              "            downloaded += buffer.byteLength;\n",
              "            progress.value = downloaded;\n",
              "          }\n",
              "        }\n",
              "      }\n",
              "      const blob = new Blob(buffers, {type: 'application/binary'});\n",
              "      const a = document.createElement('a');\n",
              "      a.href = window.URL.createObjectURL(blob);\n",
              "      a.download = filename;\n",
              "      div.appendChild(a);\n",
              "      a.click();\n",
              "      div.remove();\n",
              "    }\n",
              "  "
            ],
            "text/plain": [
              "<IPython.core.display.Javascript object>"
            ]
          },
          "metadata": {}
        },
        {
          "output_type": "display_data",
          "data": {
            "application/javascript": [
              "download(\"download_c9efae9d-aae1-43e3-88dc-149432a1205a\", \"file_dates.csv\", 1961)"
            ],
            "text/plain": [
              "<IPython.core.display.Javascript object>"
            ]
          },
          "metadata": {}
        },
        {
          "output_type": "display_data",
          "data": {
            "application/javascript": [
              "\n",
              "    async function download(id, filename, size) {\n",
              "      if (!google.colab.kernel.accessAllowed) {\n",
              "        return;\n",
              "      }\n",
              "      const div = document.createElement('div');\n",
              "      const label = document.createElement('label');\n",
              "      label.textContent = `Downloading \"${filename}\": `;\n",
              "      div.appendChild(label);\n",
              "      const progress = document.createElement('progress');\n",
              "      progress.max = size;\n",
              "      div.appendChild(progress);\n",
              "      document.body.appendChild(div);\n",
              "\n",
              "      const buffers = [];\n",
              "      let downloaded = 0;\n",
              "\n",
              "      const channel = await google.colab.kernel.comms.open(id);\n",
              "      // Send a message to notify the kernel that we're ready.\n",
              "      channel.send({})\n",
              "\n",
              "      for await (const message of channel.messages) {\n",
              "        // Send a message to notify the kernel that we're ready.\n",
              "        channel.send({})\n",
              "        if (message.buffers) {\n",
              "          for (const buffer of message.buffers) {\n",
              "            buffers.push(buffer);\n",
              "            downloaded += buffer.byteLength;\n",
              "            progress.value = downloaded;\n",
              "          }\n",
              "        }\n",
              "      }\n",
              "      const blob = new Blob(buffers, {type: 'application/binary'});\n",
              "      const a = document.createElement('a');\n",
              "      a.href = window.URL.createObjectURL(blob);\n",
              "      a.download = filename;\n",
              "      div.appendChild(a);\n",
              "      a.click();\n",
              "      div.remove();\n",
              "    }\n",
              "  "
            ],
            "text/plain": [
              "<IPython.core.display.Javascript object>"
            ]
          },
          "metadata": {}
        },
        {
          "output_type": "display_data",
          "data": {
            "application/javascript": [
              "download(\"download_2a1f311e-0596-4bc4-a415-6ee1b1fd164d\", \"classification.csv\", 630)"
            ],
            "text/plain": [
              "<IPython.core.display.Javascript object>"
            ]
          },
          "metadata": {}
        }
      ]
    }
  ]
}