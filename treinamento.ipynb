{
  "nbformat": 4,
  "nbformat_minor": 0,
  "metadata": {
    "colab": {
      "name": "treinamento.ipynb",
      "provenance": [],
      "collapsed_sections": [],
      "authorship_tag": "ABX9TyPVPMGBpNRqu54TohDE6E6J",
      "include_colab_link": true
    },
    "kernelspec": {
      "name": "python3",
      "display_name": "Python 3"
    },
    "language_info": {
      "name": "python"
    }
  },
  "cells": [
    {
      "cell_type": "markdown",
      "metadata": {
        "id": "view-in-github",
        "colab_type": "text"
      },
      "source": [
        "<a href=\"https://colab.research.google.com/github/BrunoGabri12/Rede_Neural_fundo/blob/master/treinamento.ipynb\" target=\"_parent\"><img src=\"https://colab.research.google.com/assets/colab-badge.svg\" alt=\"Open In Colab\"/></a>"
      ]
    },
    {
      "cell_type": "code",
      "metadata": {
        "id": "dhRBG454TK8n"
      },
      "source": [
        "import pandas as pd\n",
        "import numpy as np\n",
        "from sklearn.neural_network import MLPClassifier\n",
        "from sklearn.preprocessing import MinMaxScaler\n",
        "from sklearn.model_selection import StratifiedShuffleSplit\n",
        "from sklearn.preprocessing import LabelEncoder\n",
        "from sklearn import metrics\n",
        "from sklearn.model_selection import cross_val_score\n",
        "\n",
        "SET_SEED = 20\n",
        "np.random.seed(SET_SEED)"
      ],
      "execution_count": null,
      "outputs": []
    },
    {
      "cell_type": "markdown",
      "metadata": {
        "id": "hOvegmF5TiLL"
      },
      "source": [
        "#Tratamento\n",
        "de modo geral, não há muito o que ser feito, pois os dados foram tratados durante a obtenção deles. Assim sendo, o unico dado que teremos que transformar será o do dividendo,para se adequar ao modelo, temos que transforma-lo em classe categórica\n",
        "\n",
        "\n",
        "As categorias que iremos utilizar serão: \n",
        "\n",
        "Lucro para Dividendo > 1 \n",
        "\n",
        "Prejuizo para Dividendo <= 1 \n",
        "\n",
        "\n",
        "\n",
        "O Dtype é adequado para a aplicação. Os atributos nulos não podem ser excluídos, pois eles revelam se o fundo obteve ou não obteve rendimentos "
      ]
    },
    {
      "cell_type": "code",
      "metadata": {
        "id": "y9w-9I2STJOs",
        "colab": {
          "base_uri": "https://localhost:8080/",
          "height": 424
        },
        "outputId": "275fe4f3-f5f7-4c3b-9a58-00920e6bcb2d"
      },
      "source": [
        "#leitura do arquivo\n",
        "\n",
        "df = pd.read_csv('/content/file_dates.csv',header='infer')\n",
        "df"
      ],
      "execution_count": null,
      "outputs": [
        {
          "output_type": "execute_result",
          "data": {
            "text/html": [
              "<div>\n",
              "<style scoped>\n",
              "    .dataframe tbody tr th:only-of-type {\n",
              "        vertical-align: middle;\n",
              "    }\n",
              "\n",
              "    .dataframe tbody tr th {\n",
              "        vertical-align: top;\n",
              "    }\n",
              "\n",
              "    .dataframe thead th {\n",
              "        text-align: right;\n",
              "    }\n",
              "</style>\n",
              "<table border=\"1\" class=\"dataframe\">\n",
              "  <thead>\n",
              "    <tr style=\"text-align: right;\">\n",
              "      <th></th>\n",
              "      <th>Preço Atual</th>\n",
              "      <th>Variação Preço</th>\n",
              "      <th>PatrimônioLíq.</th>\n",
              "      <th>P/VPA</th>\n",
              "      <th>VariaçãoPatrimonial</th>\n",
              "      <th>Dividendo</th>\n",
              "    </tr>\n",
              "  </thead>\n",
              "  <tbody>\n",
              "    <tr>\n",
              "      <th>0</th>\n",
              "      <td>439.00</td>\n",
              "      <td>4.35</td>\n",
              "      <td>2.712850e+06</td>\n",
              "      <td>396.0</td>\n",
              "      <td>0.00</td>\n",
              "      <td>0.00</td>\n",
              "    </tr>\n",
              "    <tr>\n",
              "      <th>1</th>\n",
              "      <td>132.00</td>\n",
              "      <td>0.00</td>\n",
              "      <td>4.497172e+06</td>\n",
              "      <td>87.0</td>\n",
              "      <td>0.00</td>\n",
              "      <td>1.38</td>\n",
              "    </tr>\n",
              "    <tr>\n",
              "      <th>2</th>\n",
              "      <td>98.97</td>\n",
              "      <td>0.74</td>\n",
              "      <td>1.724301e+08</td>\n",
              "      <td>101.0</td>\n",
              "      <td>0.00</td>\n",
              "      <td>0.25</td>\n",
              "    </tr>\n",
              "    <tr>\n",
              "      <th>3</th>\n",
              "      <td>84.35</td>\n",
              "      <td>-28.14</td>\n",
              "      <td>1.636678e+07</td>\n",
              "      <td>65.0</td>\n",
              "      <td>0.00</td>\n",
              "      <td>0.00</td>\n",
              "    </tr>\n",
              "    <tr>\n",
              "      <th>4</th>\n",
              "      <td>67.21</td>\n",
              "      <td>0.00</td>\n",
              "      <td>6.697876e+07</td>\n",
              "      <td>51.0</td>\n",
              "      <td>0.00</td>\n",
              "      <td>0.64</td>\n",
              "    </tr>\n",
              "    <tr>\n",
              "      <th>...</th>\n",
              "      <td>...</td>\n",
              "      <td>...</td>\n",
              "      <td>...</td>\n",
              "      <td>...</td>\n",
              "      <td>...</td>\n",
              "      <td>...</td>\n",
              "    </tr>\n",
              "    <tr>\n",
              "      <th>95</th>\n",
              "      <td>60.78</td>\n",
              "      <td>-7.87</td>\n",
              "      <td>6.107394e+08</td>\n",
              "      <td>73.0</td>\n",
              "      <td>-0.61</td>\n",
              "      <td>0.55</td>\n",
              "    </tr>\n",
              "    <tr>\n",
              "      <th>96</th>\n",
              "      <td>95.70</td>\n",
              "      <td>-3.02</td>\n",
              "      <td>1.315716e+09</td>\n",
              "      <td>84.0</td>\n",
              "      <td>0.17</td>\n",
              "      <td>0.91</td>\n",
              "    </tr>\n",
              "    <tr>\n",
              "      <th>97</th>\n",
              "      <td>39.10</td>\n",
              "      <td>-14.05</td>\n",
              "      <td>4.283860e+07</td>\n",
              "      <td>87.0</td>\n",
              "      <td>-8.26</td>\n",
              "      <td>0.20</td>\n",
              "    </tr>\n",
              "    <tr>\n",
              "      <th>98</th>\n",
              "      <td>1964.99</td>\n",
              "      <td>-12.72</td>\n",
              "      <td>3.298280e+08</td>\n",
              "      <td>77.0</td>\n",
              "      <td>0.21</td>\n",
              "      <td>25.85</td>\n",
              "    </tr>\n",
              "    <tr>\n",
              "      <th>99</th>\n",
              "      <td>69.84</td>\n",
              "      <td>-9.36</td>\n",
              "      <td>1.502259e+09</td>\n",
              "      <td>73.0</td>\n",
              "      <td>0.10</td>\n",
              "      <td>0.52</td>\n",
              "    </tr>\n",
              "  </tbody>\n",
              "</table>\n",
              "<p>100 rows × 6 columns</p>\n",
              "</div>"
            ],
            "text/plain": [
              "    Preço Atual  Variação Preço  ...  VariaçãoPatrimonial  Dividendo\n",
              "0        439.00            4.35  ...                 0.00       0.00\n",
              "1        132.00            0.00  ...                 0.00       1.38\n",
              "2         98.97            0.74  ...                 0.00       0.25\n",
              "3         84.35          -28.14  ...                 0.00       0.00\n",
              "4         67.21            0.00  ...                 0.00       0.64\n",
              "..          ...             ...  ...                  ...        ...\n",
              "95        60.78           -7.87  ...                -0.61       0.55\n",
              "96        95.70           -3.02  ...                 0.17       0.91\n",
              "97        39.10          -14.05  ...                -8.26       0.20\n",
              "98      1964.99          -12.72  ...                 0.21      25.85\n",
              "99        69.84           -9.36  ...                 0.10       0.52\n",
              "\n",
              "[100 rows x 6 columns]"
            ]
          },
          "metadata": {},
          "execution_count": 56
        }
      ]
    },
    {
      "cell_type": "markdown",
      "metadata": {
        "id": "VNX1hIUMVTIV"
      },
      "source": [
        "como as classes são numéricas e queremos manter uma proporção no conjunto de treinamento, podemos utilizar o seguinte parametro para verificarmos a proporção delas: \n",
        "\n",
        "Lucro > 1 = Ganho\n",
        "\n",
        "Lucro < = 1 = Prejuízo \n"
      ]
    },
    {
      "cell_type": "code",
      "metadata": {
        "id": "2Z_PBI8nVaq0",
        "colab": {
          "base_uri": "https://localhost:8080/"
        },
        "outputId": "8e0179dc-064c-45bd-a50a-78c14bd6d980"
      },
      "source": [
        "df_lucro= df['Dividendo'] > 1\n",
        "df_prejuizo = df['Dividendo'] <=1  \n",
        "print(df_lucro.sum()/100)\n",
        "print(df_prejuizo.sum()/100) #essa é a proporção dos dados obtidos \n",
        "\n",
        "\n"
      ],
      "execution_count": null,
      "outputs": [
        {
          "output_type": "stream",
          "name": "stdout",
          "text": [
            "0.18\n",
            "0.82\n"
          ]
        }
      ]
    },
    {
      "cell_type": "markdown",
      "metadata": {
        "id": "Btx-tAoKt6GS"
      },
      "source": [
        "Agora que sabemos a proporção, podemos categorizar a coluna"
      ]
    },
    {
      "cell_type": "code",
      "metadata": {
        "colab": {
          "base_uri": "https://localhost:8080/"
        },
        "id": "67SZ559-oM-5",
        "outputId": "2e614681-14a5-4046-e03f-fe6143eb3761"
      },
      "source": [
        "\n",
        "\n",
        "for i in range(len(df['Dividendo'])):\n",
        "  if(df['Dividendo'].iloc[i] >1):\n",
        "    df['Dividendo'].iloc[i] = 'Lucro'\n",
        "\n",
        "  else: \n",
        "    df['Dividendo'].iloc[i] = 'Prejuizo'\n",
        "\n"
      ],
      "execution_count": null,
      "outputs": [
        {
          "output_type": "stream",
          "name": "stderr",
          "text": [
            "/usr/local/lib/python3.7/dist-packages/pandas/core/indexing.py:670: SettingWithCopyWarning: \n",
            "A value is trying to be set on a copy of a slice from a DataFrame\n",
            "\n",
            "See the caveats in the documentation: https://pandas.pydata.org/pandas-docs/stable/user_guide/indexing.html#returning-a-view-versus-a-copy\n",
            "  iloc._setitem_with_indexer(indexer, value)\n"
          ]
        }
      ]
    },
    {
      "cell_type": "code",
      "metadata": {
        "id": "b8FI0doF64Lu"
      },
      "source": [
        "#0.8 para treinamento e 0.2 para teste\n",
        "\n",
        "#split = StratifiedShuffleSplit(test_size=0.2, random_state=SET_SEED)\n",
        "\n",
        "\n",
        "\n",
        "\n",
        "\n",
        "#para realizar o split foi considerado a proporção das classes \n",
        "\n",
        "#for train_index, test_index in split.split(df,df['Dividendo']):\n",
        " #   df_train = df.iloc[train_index]\n",
        "  #  df_test = df.iloc[test_index]\n",
        "\n",
        "#quantidade de dados em cada classe\n",
        "#print(len(df_train),len(df_test))\n"
      ],
      "execution_count": null,
      "outputs": []
    },
    {
      "cell_type": "markdown",
      "metadata": {
        "id": "HY02NCg6P0Bz"
      },
      "source": [
        "## Normalização dos dados"
      ]
    },
    {
      "cell_type": "markdown",
      "metadata": {
        "id": "TxTHtKpQP36e"
      },
      "source": [
        "Vamos separar a classe dos atributos"
      ]
    },
    {
      "cell_type": "code",
      "metadata": {
        "id": "PnN4b53khHcu",
        "colab": {
          "base_uri": "https://localhost:8080/"
        },
        "outputId": "5543faab-5c38-4a89-c437-eb81a35e255b"
      },
      "source": [
        "#separando as classes \n",
        "y_train =pd.DataFrame(df_train['Dividendo'])\n",
        "x_train= df_train.drop('Dividendo',axis = 1)\n",
        "\n",
        "#y_test =pd.DataFrame(df_test['Dividendo'])\n",
        "\n",
        "#x_test= df_test.drop('Dividendo',axis = 1)\n",
        "\n",
        "print(x_train.shape)\n"
      ],
      "execution_count": null,
      "outputs": [
        {
          "output_type": "stream",
          "name": "stdout",
          "text": [
            "(80, 5)\n"
          ]
        }
      ]
    },
    {
      "cell_type": "code",
      "metadata": {
        "id": "w-e8pkzV9Yxb"
      },
      "source": [
        "#normalizando os parametros\n",
        "\n",
        "\n",
        "#normalizando dados de treinamento\n",
        "df_norm = MinMaxScaler().fit_transform(x_train)\n",
        "df_normal_train = pd.DataFrame(df_norm)\n",
        "\n",
        "#normalizando dados de teste\n",
        "df_norm_test = MinMaxScaler().fit_transform(x_test)\n",
        "df_norm_test = pd.DataFrame(df_norm_test)\n"
      ],
      "execution_count": null,
      "outputs": []
    },
    {
      "cell_type": "code",
      "metadata": {
        "id": "8CLGKeURr67z"
      },
      "source": [
        "#Transformando os dados categóricos em inteiros\n",
        "label_encoder = LabelEncoder()\n",
        "\n",
        "#categorizando para os dados de treino\n",
        "y_train = label_encoder.fit_transform(y_train)\n",
        "\n",
        "#categorizando para os dados de teste\n",
        "y_test = label_encoder.fit_transform(y_test)\n"
      ],
      "execution_count": null,
      "outputs": []
    },
    {
      "cell_type": "markdown",
      "metadata": {
        "id": "4LFsSRz_jdwd"
      },
      "source": [
        "#Treinamento"
      ]
    },
    {
      "cell_type": "code",
      "metadata": {
        "id": "6RbNLC5bjf4O",
        "colab": {
          "base_uri": "https://localhost:8080/"
        },
        "outputId": "3a8b00d7-e43b-4d47-94ab-537de7e86009"
      },
      "source": [
        "clf =  MLPClassifier(verbose=False, max_iter=1000, solver='adam', hidden_layer_sizes= (50), tol=0.0,n_iter_no_change=100)\n",
        "\n",
        "\n",
        "clf.fit(x_train,y_train)\n",
        "\n"
      ],
      "execution_count": null,
      "outputs": [
        {
          "output_type": "execute_result",
          "data": {
            "text/plain": [
              "MLPClassifier(hidden_layer_sizes=50, max_iter=1000, n_iter_no_change=100,\n",
              "              tol=0.0)"
            ]
          },
          "metadata": {},
          "execution_count": 67
        }
      ]
    },
    {
      "cell_type": "code",
      "metadata": {
        "colab": {
          "base_uri": "https://localhost:8080/"
        },
        "id": "dvQlz_X15vyh",
        "outputId": "e0ee43bb-b862-4e36-a64c-fa0ca660a786"
      },
      "source": [
        "#utilizando cross-validation\n",
        "\n",
        "\n",
        "scores = cross_val_score(clf, x_train, y_train, cv=10, scoring='accuracy')\n",
        "print(f'Acurácias: {scores}')\n",
        "\n",
        "\n"
      ],
      "execution_count": null,
      "outputs": [
        {
          "output_type": "stream",
          "name": "stdout",
          "text": [
            "Acurácias: [0.125 0.875 0.875 0.875 0.875 0.125 0.25  0.75  0.75  0.75 ]\n"
          ]
        }
      ]
    },
    {
      "cell_type": "markdown",
      "metadata": {
        "id": "c-qOlu5G0R6z"
      },
      "source": [
        "# Avaliação do modelo"
      ]
    },
    {
      "cell_type": "code",
      "metadata": {
        "id": "DZy-ck0r1JTd"
      },
      "source": [
        "def evaluate_model(y_true, y_predict):\n",
        "   \n",
        "    \n",
        "  acc = metrics.accuracy_score(y_test, y_pred_test)\n",
        "  conf_matrix = metrics.confusion_matrix(y_test, y_pred_test)\n",
        "    \n",
        "    \n",
        "  print('Acurácia: {:.2f}'.format(acc))\n",
        "  print('\\nMatriz de Confusão: \\n', conf_matrix)"
      ],
      "execution_count": null,
      "outputs": []
    },
    {
      "cell_type": "code",
      "metadata": {
        "id": "pmmn3iHd1jkF",
        "colab": {
          "base_uri": "https://localhost:8080/"
        },
        "outputId": "67e80ea4-da26-4ca7-ae91-77cb151d472b"
      },
      "source": [
        "y_pred_test= clf.predict(x_test)\n",
        "\n",
        "evaluate_model(y_test, y_pred_test)"
      ],
      "execution_count": null,
      "outputs": [
        {
          "output_type": "stream",
          "name": "stdout",
          "text": [
            "Acurácia: 0.20\n",
            "\n",
            "Matriz de Confusão: \n",
            " [[ 4  0]\n",
            " [16  0]]\n"
          ]
        }
      ]
    }
  ]
}